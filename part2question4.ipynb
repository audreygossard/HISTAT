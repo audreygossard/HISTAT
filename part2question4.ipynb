{
  "nbformat": 4,
  "nbformat_minor": 0,
  "metadata": {
    "colab": {
      "name": "part2question4.ipynb",
      "provenance": [],
      "collapsed_sections": []
    },
    "kernelspec": {
      "name": "python3",
      "display_name": "Python 3"
    },
    "language_info": {
      "name": "python"
    }
  },
  "cells": [
    {
      "cell_type": "code",
      "metadata": {
        "id": "UXfCPSLKlx6Z"
      },
      "source": [
        "import numpy\n",
        "import numpy as np\n",
        "from scipy import linalg\n",
        "import seaborn as sns\n",
        "import matplotlib.pyplot as plt\n",
        "import pandas as pd\n",
        "from scipy import stats\n",
        "import math\n",
        "from scipy import integrate\n",
        "import functools"
      ],
      "execution_count": 2,
      "outputs": []
    },
    {
      "cell_type": "code",
      "metadata": {
        "id": "L443DQA_lpDL"
      },
      "source": [
        "\n",
        "################################################ZUODONG CODE\n",
        "def prox_quad(x, c):\n",
        "    return x / (1 + c)\n",
        "\n",
        "\n",
        "def prox_quad_prime(x, c):\n",
        "    return 1 / (1 + c)\n",
        "\n",
        "\n",
        "def prox_abs(x, c):\n",
        "    return np.sign(x)(np.max((0, np.abs(x) - c)))\n",
        "\n",
        "\n",
        "def prox_abs_prime(x, c):\n",
        "    if (x > c) | (-x > c):\n",
        "        return 1\n",
        "    return 0"
      ],
      "execution_count": 3,
      "outputs": []
    },
    {
      "cell_type": "code",
      "metadata": {
        "id": "GEZ-Ew_1mIix"
      },
      "source": [
        "def F_r(t, r):\n",
        "    return stats.norm.cdf(t / r) + np.exp(r ** 2 / 2) / 2 * (\n",
        "                np.exp(t) * stats.norm.pdf(-(t + r ** 2) / r) - np.exp(-t) * stats.norm.cdf((t - r ** 2) / r))"
      ],
      "execution_count": 4,
      "outputs": []
    },
    {
      "cell_type": "code",
      "metadata": {
        "id": "mgYS6U7smFVS"
      },
      "source": [
        "def F_kappa(t, r, kappa):\n",
        "    return F_r(t, r) - (1 + kappa) / 2\n",
        "\n",
        "\n",
        "def bisection_inverse_F_bar(a, b, r, kappa, stepmax=100, tol=1e-5):\n",
        "    if np.sign(F_kappa(a, r, kappa)) == 0: return a\n",
        "    if np.sign(F_kappa(b, r, kappa)) == 0: return b\n",
        "\n",
        "    if np.sign(F_kappa(a, r, kappa)) * np.sign(F_kappa(b, r, kappa)) > 0: return print(\"no root\")\n",
        "\n",
        "    for step in range(1, stepmax + 1):\n",
        "\n",
        "        c = (a + b) / 2\n",
        "\n",
        "        if np.sign(F_kappa(c, r, kappa)) == 0: return c\n",
        "\n",
        "        if np.abs((b - a) / 2) < tol: return (b + a) / 2\n",
        "\n",
        "        if np.sign(F_kappa(c, r, kappa)) * np.sign(F_kappa(a, r, kappa)) < 0:\n",
        "            b = c\n",
        "        else:\n",
        "            a = c\n",
        "\n",
        "    return (a + b) / 2"
      ],
      "execution_count": 15,
      "outputs": []
    },
    {
      "cell_type": "code",
      "metadata": {
        "id": "38k9stxSmAMl"
      },
      "source": [
        "def F_r_final(r, kappa):\n",
        "    a_inf = -100\n",
        "    b_max = 100\n",
        "    T = bisection_inverse_F_bar(a_inf, b_max, r, kappa)\n",
        "    G = functools.partial(F_r, r)\n",
        "    fun = lambda x: x * G(x)\n",
        "    return kappa * r ** 2 - 4 * integrate.quad(fun, 0, T)[0]"
      ],
      "execution_count": 16,
      "outputs": []
    },
    {
      "cell_type": "code",
      "metadata": {
        "colab": {
          "base_uri": "https://localhost:8080/",
          "height": 530
        },
        "id": "hPt0TrHpnKl3",
        "outputId": "78967f27-68df-4033-e153-c287584fc6a8"
      },
      "source": [
        "kappa = 0.5\n",
        "r_values = np.linspace(0,2,num=100)\n",
        "F_r_final_values = [F_r_final(r, kappa) for r in r_values]\n",
        "plt.plot(r_values, F_r_final_values)"
      ],
      "execution_count": 19,
      "outputs": [
        {
          "output_type": "stream",
          "text": [
            "/usr/local/lib/python3.7/dist-packages/ipykernel_launcher.py:2: RuntimeWarning: divide by zero encountered in double_scalars\n",
            "  \n",
            "/usr/local/lib/python3.7/dist-packages/ipykernel_launcher.py:3: RuntimeWarning: divide by zero encountered in double_scalars\n",
            "  This is separate from the ipykernel package so we can avoid doing imports until\n",
            "/usr/local/lib/python3.7/dist-packages/ipykernel_launcher.py:2: RuntimeWarning: invalid value encountered in double_scalars\n",
            "  \n",
            "/usr/local/lib/python3.7/dist-packages/ipykernel_launcher.py:3: RuntimeWarning: invalid value encountered in double_scalars\n",
            "  This is separate from the ipykernel package so we can avoid doing imports until\n",
            "/usr/local/lib/python3.7/dist-packages/ipykernel_launcher.py:2: RuntimeWarning: overflow encountered in exp\n",
            "  \n",
            "/usr/local/lib/python3.7/dist-packages/ipykernel_launcher.py:7: IntegrationWarning: The occurrence of roundoff error is detected, which prevents \n",
            "  the requested tolerance from being achieved.  The error may be \n",
            "  underestimated.\n",
            "  import sys\n"
          ],
          "name": "stderr"
        },
        {
          "output_type": "execute_result",
          "data": {
            "text/plain": [
              "[<matplotlib.lines.Line2D at 0x7f437bdc5050>]"
            ]
          },
          "metadata": {
            "tags": []
          },
          "execution_count": 19
        },
        {
          "output_type": "display_data",
          "data": {
            "image/png": "[encoded data removed]",
            "text/plain": [
              "<Figure size 432x288 with 1 Axes>"
            ]
          },
          "metadata": {
            "tags": [],
            "needs_background": "light"
          }
        }
      ]
    },
    {
      "cell_type": "code",
      "metadata": {
        "colab": {
          "base_uri": "https://localhost:8080/"
        },
        "id": "8aNTQsnal638",
        "outputId": "82f3c84d-057a-430e-9a54-b408ba5f18d5"
      },
      "source": [
        "def bisection_r(kappa, stepmax=100, tol=1e-5):\n",
        "    a = 0.1\n",
        "    b = 1.5\n",
        "\n",
        "    if np.sign(F_r_final(a, kappa)) == 0: return a\n",
        "    if np.sign(F_r_final(b, kappa)) == 0: return b\n",
        "    # print(F_r_final(a,kappa),\"\\n\")\n",
        "    # print(F_r_final(b,kappa),\"\\n\")\n",
        "\n",
        "    if np.sign(F_r_final(a, kappa)) * np.sign(F_r_final(b, kappa)) > 0: return print(\"no root\")\n",
        "\n",
        "    for step in range(1, stepmax + 1):\n",
        "\n",
        "        c = (a + b) / 2\n",
        "\n",
        "        # print(F_r_final(c,kappa),\"\\n\")\n",
        "        if np.sign(F_r_final(c, kappa)) == 0: return c\n",
        "\n",
        "        if np.abs((b - a) / 2) < tol: return (b + a) / 2\n",
        "\n",
        "        if np.sign(F_r_final(c, kappa)) * np.sign(F_r_final(a, kappa)) < 0:\n",
        "            b = c\n",
        "        else:\n",
        "            a = c\n",
        "\n",
        "    return (a + b) / 2\n",
        "\n",
        "print(bisection_r(0.5))"
      ],
      "execution_count": 22,
      "outputs": [
        {
          "output_type": "stream",
          "text": [
            "1.3135871887207031\n"
          ],
          "name": "stdout"
        }
      ]
    }
  ]
}