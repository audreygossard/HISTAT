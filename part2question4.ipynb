{
  "nbformat": 4,
  "nbformat_minor": 0,
  "metadata": {
    "colab": {
      "name": "part2question4.ipynb",
      "provenance": [],
      "collapsed_sections": []
    },
    "kernelspec": {
      "name": "python3",
      "display_name": "Python 3"
    },
    "language_info": {
      "name": "python"
    }
  },
  "cells": [
    {
      "cell_type": "markdown",
      "metadata": {
        "id": "f97aamIf0YsU"
      },
      "source": [
        "##**Question 4 PART 2**"
      ]
    },
    {
      "cell_type": "code",
      "metadata": {
        "id": "UXfCPSLKlx6Z"
      },
      "source": [
        "import numpy\n",
        "import numpy as np\n",
        "from scipy import linalg\n",
        "import seaborn as sns\n",
        "import matplotlib.pyplot as plt\n",
        "import pandas as pd\n",
        "from scipy import stats\n",
        "import math\n",
        "from scipy import integrate\n",
        "import functools"
      ],
      "execution_count": null,
      "outputs": []
    },
    {
      "cell_type": "code",
      "metadata": {
        "id": "L443DQA_lpDL"
      },
      "source": [
        "\n",
        "################################################ZUODONG CODE\n",
        "def prox_quad(x, c):\n",
        "    return x / (1 + c)\n",
        "\n",
        "\n",
        "def prox_quad_prime(x, c):\n",
        "    return 1 / (1 + c)\n",
        "\n",
        "\n",
        "def prox_abs(x, c):\n",
        "    return np.sign(x)(np.max((0, np.abs(x) - c)))\n",
        "\n",
        "\n",
        "def prox_abs_prime(x, c):\n",
        "    if (x > c) | (-x > c):\n",
        "        return 1\n",
        "    return 0"
      ],
      "execution_count": null,
      "outputs": []
    },
    {
      "cell_type": "code",
      "metadata": {
        "id": "GEZ-Ew_1mIix"
      },
      "source": [
        "def F_r(t, r):\n",
        "    return stats.norm.cdf(t / r) + np.exp(r ** 2 / 2) / 2 * (\n",
        "                np.exp(t) * stats.norm.pdf(-(t + r ** 2) / r) - np.exp(-t) * stats.norm.cdf((t - r ** 2) / r))"
      ],
      "execution_count": null,
      "outputs": []
    },
    {
      "cell_type": "code",
      "metadata": {
        "id": "mgYS6U7smFVS"
      },
      "source": [
        "def F_kappa(t, r, kappa):\n",
        "    return F_r(t, r) - (1 - kappa) / 2\n",
        "\n",
        "\n",
        "def bisection_inverse_F_bar(a, b, r, kappa, stepmax=100, tol=1e-5):\n",
        "    if np.sign(F_kappa(a, r, kappa)) == 0: return a\n",
        "    if np.sign(F_kappa(b, r, kappa)) == 0: return b\n",
        "\n",
        "    if np.sign(F_kappa(a, r, kappa)) * np.sign(F_kappa(b, r, kappa)) > 0: return print(\"no root\")\n",
        "\n",
        "    for step in range(1, stepmax + 1):\n",
        "\n",
        "        c = (a + b) / 2\n",
        "\n",
        "        if np.sign(F_kappa(c, r, kappa)) == 0: return c\n",
        "\n",
        "        if np.abs((b - a) / 2) < tol: return (b + a) / 2\n",
        "\n",
        "        if np.sign(F_kappa(c, r, kappa)) * np.sign(F_kappa(a, r, kappa)) < 0:\n",
        "            b = c\n",
        "        else:\n",
        "            a = c\n",
        "\n",
        "    return (a + b) / 2"
      ],
      "execution_count": 23,
      "outputs": []
    },
    {
      "cell_type": "code",
      "metadata": {
        "id": "38k9stxSmAMl"
      },
      "source": [
        "def F_r_final(r, kappa):\n",
        "    a_inf = -100\n",
        "    b_max = 100\n",
        "    T = bisection_inverse_F_bar(a_inf, b_max, r, kappa)\n",
        "    G = functools.partial(F_r, r)\n",
        "    fun = lambda x: x * G(x)\n",
        "    return kappa * r ** 2 - 4 * integrate.quad(fun, 0, T)[0]"
      ],
      "execution_count": 24,
      "outputs": []
    },
    {
      "cell_type": "code",
      "metadata": {
        "colab": {
          "base_uri": "https://localhost:8080/",
          "height": 530
        },
        "id": "hPt0TrHpnKl3",
        "outputId": "f53f350a-e0c9-43e2-b249-84a3a5c91f68"
      },
      "source": [
        "kappa = 0.5\n",
        "r_values = np.linspace(0,2,num=100)\n",
        "F_r_final_values = [F_r_final(r, kappa) for r in r_values]\n",
        "plt.plot(r_values, F_r_final_values)"
      ],
      "execution_count": 25,
      "outputs": [
        {
          "output_type": "stream",
          "text": [
            "/usr/local/lib/python3.7/dist-packages/ipykernel_launcher.py:2: RuntimeWarning: divide by zero encountered in double_scalars\n",
            "  \n",
            "/usr/local/lib/python3.7/dist-packages/ipykernel_launcher.py:3: RuntimeWarning: divide by zero encountered in double_scalars\n",
            "  This is separate from the ipykernel package so we can avoid doing imports until\n",
            "/usr/local/lib/python3.7/dist-packages/ipykernel_launcher.py:2: RuntimeWarning: invalid value encountered in double_scalars\n",
            "  \n",
            "/usr/local/lib/python3.7/dist-packages/ipykernel_launcher.py:3: RuntimeWarning: invalid value encountered in double_scalars\n",
            "  This is separate from the ipykernel package so we can avoid doing imports until\n",
            "/usr/local/lib/python3.7/dist-packages/ipykernel_launcher.py:2: RuntimeWarning: overflow encountered in exp\n",
            "  \n",
            "/usr/local/lib/python3.7/dist-packages/ipykernel_launcher.py:7: IntegrationWarning: The occurrence of roundoff error is detected, which prevents \n",
            "  the requested tolerance from being achieved.  The error may be \n",
            "  underestimated.\n",
            "  import sys\n"
          ],
          "name": "stderr"
        },
        {
          "output_type": "execute_result",
          "data": {
            "text/plain": [
              "[<matplotlib.lines.Line2D at 0x7f437bda3f10>]"
            ]
          },
          "metadata": {
            "tags": []
          },
          "execution_count": 25
        },
        {
          "output_type": "display_data",
          "data": {
            "image/png": "[encoded data removed]",
            "text/plain": [
              "<Figure size 432x288 with 1 Axes>"
            ]
          },
          "metadata": {
            "tags": [],
            "needs_background": "light"
          }
        }
      ]
    },
    {
      "cell_type": "code",
      "metadata": {
        "colab": {
          "base_uri": "https://localhost:8080/"
        },
        "id": "8aNTQsnal638",
        "outputId": "4d2ea98e-3cb2-4809-f0b3-9dca7f33d6a4"
      },
      "source": [
        "def bisection_r(kappa, stepmax=100, tol=1e-5):\n",
        "    a = 0.1\n",
        "    b = 1.5\n",
        "\n",
        "    if np.sign(F_r_final(a, kappa)) == 0: return a\n",
        "    if np.sign(F_r_final(b, kappa)) == 0: return b\n",
        "    # print(F_r_final(a,kappa),\"\\n\")\n",
        "    # print(F_r_final(b,kappa),\"\\n\")\n",
        "\n",
        "    if np.sign(F_r_final(a, kappa)) * np.sign(F_r_final(b, kappa)) > 0: return print(\"no root\")\n",
        "\n",
        "    for step in range(1, stepmax + 1):\n",
        "\n",
        "        c = (a + b) / 2\n",
        "\n",
        "        # print(F_r_final(c,kappa),\"\\n\")\n",
        "        if np.sign(F_r_final(c, kappa)) == 0: return c\n",
        "\n",
        "        if np.abs((b - a) / 2) < tol: return (b + a) / 2\n",
        "\n",
        "        if np.sign(F_r_final(c, kappa)) * np.sign(F_r_final(a, kappa)) < 0:\n",
        "            b = c\n",
        "        else:\n",
        "            a = c\n",
        "\n",
        "    return (a + b) / 2\n",
        "\n",
        "print(bisection_r(0.5))"
      ],
      "execution_count": 26,
      "outputs": [
        {
          "output_type": "stream",
          "text": [
            "no root\n",
            "None\n"
          ],
          "name": "stdout"
        }
      ]
    },
    {
      "cell_type": "markdown",
      "metadata": {
        "id": "8mQ5ClAFv9WT"
      },
      "source": [
        "##**Question 5 PART 2**"
      ]
    },
    {
      "cell_type": "code",
      "metadata": {
        "id": "jkx2rUrLzjSW"
      },
      "source": [
        "from random import gauss\n",
        "from math import sqrt"
      ],
      "execution_count": 40,
      "outputs": []
    },
    {
      "cell_type": "code",
      "metadata": {
        "id": "Shnhfx2sv8f9"
      },
      "source": [
        "def monte_carlo_expectancy(r,c, Nsim = 1e6):\n",
        "  z = 0 #zepsilon variable\n",
        "  eps1 = 0 #gaussian(0,1)\n",
        "  eps2 = 0 #gaussian(0,1)\n",
        "  E1 = 0.0\n",
        "  E2 = 0.0\n",
        "  for i in range(int(Nsim)):\n",
        "    eps1 = gauss(0,1)\n",
        "    eps2 = gauss(0,1)\n",
        "    z = eps1 + r*eps2\n",
        "    E1 += (z-prox_quad(z,c))**2\n",
        "    E2 += prox_quad_prime(z,c)\n",
        "  return E1/Nsim,E2/Nsim\n"
      ],
      "execution_count": 45,
      "outputs": []
    },
    {
      "cell_type": "code",
      "metadata": {
        "id": "uynfLMO72ubz"
      },
      "source": [
        "def F(r, c):\n",
        "  E1, E2 = monte_carlo_expectancy(r,c)\n",
        "  return sqrt(E1/(1-E2))"
      ],
      "execution_count": 46,
      "outputs": []
    },
    {
      "cell_type": "code",
      "metadata": {
        "id": "6bZ7cN4J1-Cz"
      },
      "source": [
        "def solve_iteration(c, err=1e-2) :\n",
        "  r1 = 0.1\n",
        "  r2 = 1\n",
        "  stop = 1000\n",
        "  iter = 0\n",
        "  while (abs(r1-r2)>1e-2 and iter<stop): \n",
        "    r1 = r2\n",
        "    r2 = F(r1,c)\n",
        "    iter +=1\n",
        "  if iter>=stop : \n",
        "    print(\"stop iter = 1000\")\n",
        "  return r2"
      ],
      "execution_count": 51,
      "outputs": []
    },
    {
      "cell_type": "code",
      "metadata": {
        "id": "n4Ah0Dq86AM2"
      },
      "source": [
        "def kappa_quad(r):\n",
        "  return 1-(1/(1+c))"
      ],
      "execution_count": null,
      "outputs": []
    },
    {
      "cell_type": "code",
      "metadata": {
        "colab": {
          "base_uri": "https://localhost:8080/"
        },
        "id": "2XOJxnhF4GtM",
        "outputId": "6aaf4b90-638a-48d5-c459-240b11b0abd3"
      },
      "source": [
        "c = 1\n",
        "solve_iteration(c)"
      ],
      "execution_count": 52,
      "outputs": [
        {
          "output_type": "execute_result",
          "data": {
            "text/plain": [
              "1.0049819741188448"
            ]
          },
          "metadata": {
            "tags": []
          },
          "execution_count": 52
        }
      ]
    },
    {
      "cell_type": "code",
      "metadata": {
        "colab": {
          "base_uri": "https://localhost:8080/",
          "height": 318
        },
        "id": "iBZecKEX5FyY",
        "outputId": "9c736117-dd95-40b1-add6-ae892f628fcc"
      },
      "source": [
        "c_values = np.linspace(0,10, 10) #10) cest bcp environ 10min pour tourner \n",
        "r_values = [solve_iteration(c) for c in c_values]\n",
        "plt.plot(r_values, c_values)"
      ],
      "execution_count": 53,
      "outputs": [
        {
          "output_type": "stream",
          "text": [
            "/usr/local/lib/python3.7/dist-packages/ipykernel_launcher.py:3: RuntimeWarning: invalid value encountered in double_scalars\n",
            "  This is separate from the ipykernel package so we can avoid doing imports until\n"
          ],
          "name": "stderr"
        },
        {
          "output_type": "execute_result",
          "data": {
            "text/plain": [
              "[<matplotlib.lines.Line2D at 0x7f4380b0ed10>]"
            ]
          },
          "metadata": {
            "tags": []
          },
          "execution_count": 53
        },
        {
          "output_type": "display_data",
          "data": {
            "image/png": "[encoded data removed]",
            "text/plain": [
              "<Figure size 432x288 with 1 Axes>"
            ]
          },
          "metadata": {
            "tags": [],
            "needs_background": "light"
          }
        }
      ]
    }
  ]
}