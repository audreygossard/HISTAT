{
 "cells": [
  {
   "cell_type": "code",
   "execution_count": 1,
   "metadata": {
    "id": "UXfCPSLKlx6Z"
   },
   "outputs": [],
   "source": [
    "import numpy as np\n",
    "from scipy import linalg\n",
    "import seaborn as sns\n",
    "import matplotlib.pyplot as plt\n",
    "import pandas as pd\n",
    "from scipy import stats\n",
    "import math\n",
    "from scipy import integrate\n",
    "from numpy.linalg import inv\n",
    "import functools\n",
    "from random import gauss\n",
    "from math import sqrt"
   ]
  },
  {
   "cell_type": "markdown",
   "metadata": {
    "id": "W5D9G7lCG-wp"
   },
   "source": [
    "# **PART 1 - Q2**\n"
   ]
  },
  {
   "cell_type": "code",
   "execution_count": 56,
   "metadata": {
    "id": "QjzDPz61H1hG"
   },
   "outputs": [],
   "source": [
    "def MLE1(X, y):\n",
    "    X_t = X.transpose()\n",
    "    return np.inv(X_t*X)*X_t*y"
   ]
  },
  {
   "cell_type": "markdown",
   "metadata": {},
   "source": [
    "# PART 1 - Q4"
   ]
  },
  {
   "cell_type": "code",
   "execution_count": 16,
   "metadata": {},
   "outputs": [],
   "source": [
    "import numpy as np\n",
    "from numpy.linalg import inv\n",
    "from numpy.linalg import norm\n",
    "from numpy.linalg import pinv\n",
    "import matplotlib.pyplot as plt\n",
    "from scipy.optimize import linprog\n",
    "\n",
    "\n",
    "def MLE1(X, y):\n",
    "    X_t = X.transpose()\n",
    "    return np.dot(np.dot(pinv(np.dot(X_t,X)), X_t), y)\n",
    "\n",
    "\n",
    "def pseudo_identity(n, p): # matrice pseudo-identité de taille n,p\n",
    "    M = np.zeros((n, p))\n",
    "    for i in range(n):\n",
    "        for j in range(p):\n",
    "            if i == j:\n",
    "                M[i, j] = 1\n",
    "    return M\n",
    "\n",
    "\n",
    "def a_uq(n, p):\n",
    "    a = -np.identity(2*n+p)\n",
    "    for i in range(2*n, 2*n+p):\n",
    "        a[i, i] = 0\n",
    "    return a\n",
    "\n",
    "\n",
    "def MLE2(X, y):\n",
    "    n, p = X.shape\n",
    "    result = linprog(c=np.hstack([np.ones(2*n), np.zeros(p)]), A_eq=np.hstack([np.identity(n), -np.identity(n), X]), b_eq=y, A_ub=a_uq(n, p), b_ub=np.zeros((1, 2*n+p)))\n",
    "    x = result.x\n",
    "    return x[2*n:]"
   ]
  },
  {
   "cell_type": "markdown",
   "metadata": {
    "id": "rnuGfx5nB6Lx"
   },
   "source": [
    "#**PART 1 - Q5**"
   ]
  },
  {
   "cell_type": "code",
   "execution_count": 19,
   "metadata": {
    "colab": {
     "base_uri": "https://localhost:8080/",
     "height": 545
    },
    "id": "6Q2YSQgaBjld",
    "outputId": "ac22c299-805c-4b7d-a8bc-f4072f1e8946"
   },
   "outputs": [
    {
     "data": {
      "image/png": "[encoded data removed]",
      "text/plain": [
       "<Figure size 648x288 with 2 Axes>"
      ]
     },
     "metadata": {
      "needs_background": "light"
     },
     "output_type": "display_data"
    },
    {
     "data": {
      "image/png": "[encoded data removed]",
      "text/plain": [
       "<Figure size 648x288 with 2 Axes>"
      ]
     },
     "metadata": {
      "needs_background": "light"
     },
     "output_type": "display_data"
    }
   ],
   "source": [
    "p = 400\n",
    "\n",
    "\n",
    "def generate_dataset(beta_star, n, noise):\n",
    "    \n",
    "    X = np.ones((n, p+1))\n",
    "    X[:,1:] = np.random.uniform(0, 1, (n, p))\n",
    "\n",
    "    if noise == 'normal':\n",
    "        eps = np.random.uniform(0, 1, n)\n",
    "\n",
    "    else:  # noise == 'exp'\n",
    "        eps = np.random.laplace(0, 1, n)\n",
    "\n",
    "    Y = np.dot(X, beta_star) + eps\n",
    "    return X, Y\n",
    "\n",
    "\n",
    "def rho1(t):\n",
    "    return np.abs(t)\n",
    "\n",
    "\n",
    "def rho2(t):\n",
    "    return t*t/2\n",
    "\n",
    "\n",
    "def error(MLE, beta_star):\n",
    "    return norm(MLE - beta_star)**2\n",
    "\n",
    "\n",
    "nb_kappa = 5\n",
    "nb_simu = 20\n",
    "n_tab = np.linspace(1, p-1, nb_kappa, dtype='int')\n",
    "kappa_tab = np.zeros(nb_kappa)\n",
    "beta_star = np.random.normal(0, 1, p+1)\n",
    "noise1 = 'normal'\n",
    "noise2 = 'exp'\n",
    "error_tab_rho1_noise1 = np.zeros((nb_simu, nb_kappa))\n",
    "error_tab_rho2_noise1 = np.zeros((nb_simu, nb_kappa))\n",
    "error_tab_rho1_noise2 = np.zeros((nb_simu, nb_kappa))\n",
    "error_tab_rho2_noise2 = np.zeros((nb_simu, nb_kappa))\n",
    "\n",
    "for i in range(nb_kappa):\n",
    "    n = n_tab[i]\n",
    "    kappa_tab[i] = p/n\n",
    "    for j in range(nb_simu):\n",
    "        X1, y1 = generate_dataset(beta_star, n, noise1)\n",
    "        X2, y2 = generate_dataset(beta_star, n, noise2)\n",
    "        error_tab_rho1_noise1[j, i] = error(MLE1(X1, y1), beta_star)\n",
    "        error_tab_rho2_noise1[j, i] = error(MLE2(X1, y1), beta_star)\n",
    "        error_tab_rho1_noise2[j, i] = error(MLE1(X2, y2), beta_star)\n",
    "        error_tab_rho2_noise2[j, i] = error(MLE2(X2, y2), beta_star)\n",
    "\n",
    "fig1, (ax11, ax12) = plt.subplots(nrows=1, ncols=2, figsize=(9, 4))\n",
    "fig2, (ax21, ax22) = plt.subplots(nrows=1, ncols=2, figsize=(9, 4))\n",
    "\n",
    "bplot11 = ax11.boxplot(error_tab_rho1_noise1)\n",
    "ax11.set_title('Normal noise, rho1')\n",
    "\n",
    "bplot12 = ax12.boxplot(error_tab_rho2_noise1)\n",
    "ax12.set_title('Normal noise, rho2')\n",
    "\n",
    "bplot21 = ax21.boxplot(error_tab_rho1_noise2)\n",
    "ax21.set_title('Exp noise, rho1')\n",
    "\n",
    "bplot22 = ax22.boxplot(error_tab_rho2_noise2)\n",
    "ax22.set_title('Exp noise, rho2')\n",
    "\n",
    "plt.show()"
   ]
  },
  {
   "cell_type": "code",
   "execution_count": null,
   "metadata": {},
   "outputs": [],
   "source": [
    "# LSE:\n",
    "\n",
    "from numpy.linalg import lstsq\n",
    "\n",
    "lstsq"
   ]
  },
  {
   "cell_type": "markdown",
   "metadata": {
    "id": "f97aamIf0YsU"
   },
   "source": [
    "##**PART 2 Q4**"
   ]
  },
  {
   "cell_type": "code",
   "execution_count": 4,
   "metadata": {
    "id": "L443DQA_lpDL"
   },
   "outputs": [],
   "source": [
    "def prox_quad(x,c):\n",
    "    return x/(1+c)\n",
    " def prox_quad_prime(x,c):\n",
    "    return 1/(1+c)\n",
    "def prox_abs(x,c):\n",
    "    return np.sign(x)*(np.max((0,np.abs(x)-c)))\n",
    "def prox_abs_prime(x,c):\n",
    "    if (x>c) | (-x>c):\n",
    "        return 1\n",
    "    return 0\n",
    "def F_r(t,r):\n",
    "    if r != 0:\n",
    "        return stats.norm.cdf(t/r)+np.exp(r**2/2)/2*(np.exp(t)*stats.norm.cdf(-(t+r**2)/r)-np.exp(-t)*stats.norm.cdf((t-r**2)/r))\n",
    "    else:\n",
    "        return stats.laplace.cdf(t)\n",
    "def F_r_bar(t,r):\n",
    "    return 1-F_r(t,r)\n",
    "def F_kappa(t,r,kappa):\n",
    "    return F_r_bar(t,r)-(1-kappa)/2\n",
    "\n",
    "\n",
    "def F_r_final(r,kappa):\n",
    "    a_inf=-100\n",
    "    b_max=100\n",
    "    f=lambda x: F_kappa(x,r,kappa)\n",
    "    T=scipy.optimize.bisect(f,0,100)\n",
    "    fun = lambda x: x * F_r_bar(x,r)\n",
    "    if T>0:\n",
    "        return kappa*r**2-4*integrate.quad(fun,0,T)[0]\n",
    "    else:\n",
    "        return kappa*r**2\n",
    "    \n",
    "\n",
    "def bisection_r(kappa, stepmax=100, tol=1e-5):\n",
    "    \n",
    "    fun=lambda x:  F_r_final(x,kappa)\n",
    "    return scipy.optimize.bisect(fun,0,10)\n"
   ]
  },
  {
   "cell_type": "code",
   "execution_count": 5,
   "metadata": {
    "id": "GEZ-Ew_1mIix"
   },
   "outputs": [],
   "source": [
    "#Plot and calculate kappa and r, takes a few minutes\n",
    "Kappa=np.linspace(0.01,0.95,num=100)\n",
    "r_real=[bisection_r(k) for k in Kappa]\n",
    "plt.plot(Kappa,r_real)"
   ]
  },
  {
   "cell_type": "code",
   "execution_count": 3,
   "metadata": {
    "id": "mgYS6U7smFVS"
   },
   "outputs": [],
   "source": [
    "#result of r and kappa\n",
    "r_real=[0.10846345012737402,\n",
    " 0.1565523657097856,\n",
    " 0.19596628679096284,\n",
    " 0.23092602796054962,\n",
    " 0.26309751733492703,\n",
    " 0.2933422121930107,\n",
    " 0.32217456112107357,\n",
    " 0.3499312786277642,\n",
    " 0.3768473753723356,\n",
    " 0.4030949368950587,\n",
    " 0.42880478420897816,\n",
    " 0.45407943173700005,\n",
    " 0.4790012679393385,\n",
    " 0.5036379493765253,\n",
    " 0.5280460875621884,\n",
    " 0.5522738465163002,\n",
    " 0.576362820944496,\n",
    " 0.6003494252502151,\n",
    " 0.6242659415204344,\n",
    " 0.6481413243102452,\n",
    " 0.6720018287762741,\n",
    " 0.6958715081702849,\n",
    " 0.7197726134370441,\n",
    " 0.7437259182017897,\n",
    " 0.7677509866368837,\n",
    " 0.7918663967359407,\n",
    " 0.8160899287588563,\n",
    " 0.8404387262282853,\n",
    " 0.8649294351073422,\n",
    " 0.8895783256195955,\n",
    " 0.9144014002674794,\n",
    " 0.9394144908503677,\n",
    " 0.9646333467719614,\n",
    " 0.990073716571942,\n",
    " 1.0157514241416266,\n",
    " 1.0416824411106518,\n",
    " 1.067882956391486,\n",
    " 1.0943694439981755,\n",
    " 1.121158729996523,\n",
    " 1.14826805939515,\n",
    " 1.1757151637573315,\n",
    " 1.20351833029531,\n",
    " 1.2316964731019198,\n",
    " 1.2602692073062371,\n",
    " 1.2892569268421994,\n",
    " 1.3186808866191768,\n",
    " 1.3485632898630229,\n",
    " 1.3789273815689285,\n",
    " 1.4097975489391956,\n",
    " 1.4411994298677655,\n",
    " 1.4731600306129167,\n",
    " 1.5057078539814484,\n",
    " 1.5388730393681271,\n",
    " 1.572687516439828,\n",
    " 1.6071851741310184,\n",
    " 1.642402047222049,\n",
    " 1.6783765228944958,\n",
    " 1.7151495699738462,\n",
    " 1.7527649942792323,\n",
    " 1.7912697236499753,\n",
    " 1.8307141271873206,\n",
    " 1.8711523737840707,\n",
    " 1.9126428358970315,\n",
    " 1.955248545835957,\n",
    " 1.9990377127794545,\n",
    " 2.0440843106746343,\n",
    " 2.090468748777994,\n",
    " 2.138278639300779,\n",
    " 2.1876096792345834,\n",
    " 2.23856666718234,\n",
    " 2.291264680674203,\n",
    " 2.345830444666035,\n",
    " 2.402403929626189,\n",
    " 2.4611402260472914,\n",
    " 2.5222117541886746,\n",
    " 2.5858108824934334,\n",
    " 2.652153047450838,\n",
    " 2.7214804929110414,\n",
    " 2.794066780012372,\n",
    " 2.870222263376263,\n",
    " 2.95030078873765,\n",
    " 3.0347079484215556,\n",
    " 3.1239113429194276,\n",
    " 3.2184534525265462,\n",
    " 3.31896794347017,\n",
    " 3.4262005490711545,\n",
    " 3.541036127527377,\n",
    " 3.664534182520356,\n",
    " 3.797976169297499,\n",
    " 3.9429295128513786,\n",
    " 4.10133580696197,\n",
    " 4.275634803651656,\n",
    " 4.468942754489262,\n",
    " 4.685315749703705,\n",
    " 4.930150559339381,\n",
    " 5.210816885279428,\n",
    " 5.53769774010334,\n",
    " 5.9259913801736275,\n",
    " 6.399036377177936,\n",
    " 6.994962265558797]\n",
    "\n",
    "Kappa=np.array([0.01      , 0.01949495, 0.0289899 , 0.03848485, 0.0479798 ,\n",
    "       0.05747475, 0.0669697 , 0.07646465, 0.0859596 , 0.09545455,\n",
    "       0.10494949, 0.11444444, 0.12393939, 0.13343434, 0.14292929,\n",
    "       0.15242424, 0.16191919, 0.17141414, 0.18090909, 0.19040404,\n",
    "       0.19989899, 0.20939394, 0.21888889, 0.22838384, 0.23787879,\n",
    "       0.24737374, 0.25686869, 0.26636364, 0.27585859, 0.28535354,\n",
    "       0.29484848, 0.30434343, 0.31383838, 0.32333333, 0.33282828,\n",
    "       0.34232323, 0.35181818, 0.36131313, 0.37080808, 0.38030303,\n",
    "       0.38979798, 0.39929293, 0.40878788, 0.41828283, 0.42777778,\n",
    "       0.43727273, 0.44676768, 0.45626263, 0.46575758, 0.47525253,\n",
    "       0.48474747, 0.49424242, 0.50373737, 0.51323232, 0.52272727,\n",
    "       0.53222222, 0.54171717, 0.55121212, 0.56070707, 0.57020202,\n",
    "       0.57969697, 0.58919192, 0.59868687, 0.60818182, 0.61767677,\n",
    "       0.62717172, 0.63666667, 0.64616162, 0.65565657, 0.66515152,\n",
    "       0.67464646, 0.68414141, 0.69363636, 0.70313131, 0.71262626,\n",
    "       0.72212121, 0.73161616, 0.74111111, 0.75060606, 0.76010101,\n",
    "       0.76959596, 0.77909091, 0.78858586, 0.79808081, 0.80757576,\n",
    "       0.81707071, 0.82656566, 0.83606061, 0.84555556, 0.85505051,\n",
    "       0.86454545, 0.8740404 , 0.88353535, 0.8930303 , 0.90252525,\n",
    "       0.9120202 , 0.92151515, 0.9310101 , 0.94050505, 0.95      ])"
   ]
  },
  {
   "cell_type": "code",
   "execution_count": 7,
   "metadata": {
    "id": "38k9stxSmAMl"
   },
   "outputs": [],
   "source": []
  },
  {
   "cell_type": "code",
   "execution_count": null,
   "metadata": {
    "colab": {
     "base_uri": "https://localhost:8080/",
     "height": 530
    },
    "id": "hPt0TrHpnKl3",
    "outputId": "f53f350a-e0c9-43e2-b249-84a3a5c91f68"
   },
   "outputs": [],
   "source": []
  },
  {
   "cell_type": "code",
   "execution_count": null,
   "metadata": {
    "colab": {
     "base_uri": "https://localhost:8080/"
    },
    "id": "8aNTQsnal638",
    "outputId": "4d2ea98e-3cb2-4809-f0b3-9dca7f33d6a4"
   },
   "outputs": [],
   "source": []
  },
  {
   "cell_type": "markdown",
   "metadata": {
    "id": "8mQ5ClAFv9WT"
   },
   "source": [
    "##**PART 2 Q5**"
   ]
  },
  {
   "cell_type": "code",
   "execution_count": 8,
   "metadata": {
    "id": "jkx2rUrLzjSW"
   },
   "outputs": [],
   "source": []
  },
  {
   "cell_type": "code",
   "execution_count": 52,
   "metadata": {
    "id": "Shnhfx2sv8f9"
   },
   "outputs": [],
   "source": [
    "def f1(z,c):\n",
    "    return (z-prox_abs(z,c))**2\n",
    "def f2(z,c):\n",
    "    return prox_abs_prime(z,c)\n",
    "def monte_carlo_expectancy(r,c, Nsim = 1e5):\n",
    "    eps1 = np.random.laplace(size=(int(Nsim),)) #laplace()\n",
    "    eps2 = np.random.normal(0,1, size = (int(Nsim),)) #gaussian(0,1)\n",
    "    z = eps1+r*eps2 #zepsilon variable\n",
    "    E1 = np.array(list(map(functools.partial(f1,c=c), z)))\n",
    "    E2 = np.array(list(map(functools.partial(f2,c=c), z)))\n",
    "\n",
    "    return np.sum(E1)/Nsim,np.sum(E2)/Nsim\n",
    "def F(r, c):\n",
    "    E1, E2 = monte_carlo_expectancy(r,c)\n",
    "    return sqrt(E1/(1-E2))\n",
    "def solve_iteration(c, err=1e-2) :\n",
    "    r1 = 0.1\n",
    "    r2 = 1\n",
    "    stop = 100\n",
    "    iter = 0\n",
    "    while (abs(r1-r2)>1e-2 and iter<stop): \n",
    "        r1 = r2\n",
    "        r2 = F(r1,c)\n",
    "        iter +=1\n",
    "        #print(abs(r1-r2),\" \")\n",
    "    if iter>=stop : \n",
    "        print(\"stop iter = 100\")\n",
    "    return r2\n",
    "def kappa_quad(r):\n",
    "    return 1-(1/(1+c))\n",
    "\n",
    "def kappa_abs(r,c, Nsim= 1e5):\n",
    "    eps1 = np.random.laplace(size=(int(Nsim),)) #laplace()\n",
    "    eps2 = np.random.normal(0,1, size = (int(Nsim),)) #gaussian(0,1)\n",
    "    z = eps1+r*eps2 #zepsilon variable\n",
    "    E2 = np.array(list(map(functools.partial(f2,c=c), z)))\n",
    "    return 1-np.sum(E2)/Nsim"
   ]
  },
  {
   "cell_type": "code",
   "execution_count": 53,
   "metadata": {
    "id": "uynfLMO72ubz"
   },
   "outputs": [],
   "source": [
    "#calculate r and kappa\n",
    "c_values = np.linspace(0.01,7, 50) #10) cest bcp environ 10min pour tourner \n",
    "r_values = np.zeros(50)\n",
    "kappa_values = np.zeros(50)\n",
    "for i in range(50):\n",
    "    r_values[i]=solve_iteration(c_values[i])\n",
    "    kappa_values[i]=kappa_abs(r_values[i], c_values[i])\n",
    "    print(i,\": \",c_values[i],\" \",kappa_values[i],\" \",r_values[i],\"\\n\")"
   ]
  },
  {
   "cell_type": "code",
   "execution_count": 4,
   "metadata": {
    "id": "6bZ7cN4J1-Cz"
   },
   "outputs": [],
   "source": [
    "#result of r and kappa\n",
    "kappa_values=np.array([0.01   , 0.11104, 0.18622, 0.24942, 0.30286, 0.35323, 0.39271,\n",
    "       0.43261, 0.4643 , 0.49435, 0.51966, 0.54668, 0.5703 , 0.58586,\n",
    "       0.60745, 0.62521, 0.6403 , 0.65865, 0.67321, 0.68431, 0.69639,\n",
    "       0.70955, 0.71974, 0.73224, 0.74448, 0.75216, 0.76247, 0.77048,\n",
    "       0.77827, 0.78565, 0.79139, 0.80253, 0.80875, 0.81311, 0.81624,\n",
    "       0.822  , 0.82724, 0.83337, 0.83985, 0.84333, 0.84621, 0.85005,\n",
    "       0.8554 , 0.86404, 0.86213, 0.86157, 0.87199, 0.87247, 0.885  ,\n",
    "       0.87949])\n",
    "r_values=np.array([0.10195004, 0.44182507, 0.63824215, 0.80220262, 0.94091302,\n",
    "       1.06461395, 1.18082226, 1.28677747, 1.38335284, 1.49220451,\n",
    "       1.58693681, 1.67921312, 1.76744258, 1.86893003, 1.94974118,\n",
    "       2.02934337, 2.11796999, 2.1900007 , 2.26073582, 2.35540806,\n",
    "       2.42595035, 2.49024345, 2.5735606 , 2.64299796, 2.69125253,\n",
    "       2.78457245, 2.82982615, 2.90764764, 2.97409798, 3.03807127,\n",
    "       3.1052999 , 3.16259143, 3.24281855, 3.31443856, 3.35877375,\n",
    "       3.44909236, 3.50931613, 3.57129255, 3.60000337, 3.68798878,\n",
    "       3.75272039, 3.81741074, 3.87193423, 3.89688512, 4.01122153,\n",
    "       4.10049191, 4.08989175, 4.18377153, 4.12921673, 4.30209506])"
   ]
  },
  {
   "cell_type": "code",
   "execution_count": 5,
   "metadata": {
    "id": "n4Ah0Dq86AM2"
   },
   "outputs": [
    {
     "data": {
      "text/plain": [
       "[<matplotlib.lines.Line2D at 0x165cee96190>,\n",
       " <matplotlib.lines.Line2D at 0x165cee961f0>]"
      ]
     },
     "execution_count": 5,
     "metadata": {},
     "output_type": "execute_result"
    },
    {
     "data": {
      "image/png": "[encoded data removed]",
      "text/plain": [
       "<Figure size 432x288 with 1 Axes>"
      ]
     },
     "metadata": {
      "needs_background": "light"
     },
     "output_type": "display_data"
    }
   ],
   "source": [
    "#plot monte calo and analytic\n",
    "plt.plot(kappa_values, r_values,Kappa,r_real)"
   ]
  },
  {
   "cell_type": "code",
   "execution_count": null,
   "metadata": {
    "colab": {
     "base_uri": "https://localhost:8080/"
    },
    "id": "2XOJxnhF4GtM",
    "outputId": "6aaf4b90-638a-48d5-c459-240b11b0abd3"
   },
   "outputs": [],
   "source": []
  },
  {
   "cell_type": "code",
   "execution_count": null,
   "metadata": {
    "colab": {
     "base_uri": "https://localhost:8080/",
     "height": 318
    },
    "id": "iBZecKEX5FyY",
    "outputId": "9c736117-dd95-40b1-add6-ae892f628fcc"
   },
   "outputs": [],
   "source": []
  },
  {
   "cell_type": "code",
   "execution_count": null,
   "metadata": {},
   "outputs": [],
   "source": []
  },
  {
   "cell_type": "code",
   "execution_count": null,
   "metadata": {},
   "outputs": [],
   "source": []
  },
  {
   "cell_type": "code",
   "execution_count": null,
   "metadata": {},
   "outputs": [],
   "source": []
  }
 ],
 "metadata": {
  "colab": {
   "collapsed_sections": [],
   "name": "HISTAT project 4.ipynb",
   "provenance": []
  },
  "kernelspec": {
   "display_name": "Python 3",
   "language": "python",
   "name": "python3"
  },
  "language_info": {
   "codemirror_mode": {
    "name": "ipython",
    "version": 3
   },
   "file_extension": ".py",
   "mimetype": "text/x-python",
   "name": "python",
   "nbconvert_exporter": "python",
   "pygments_lexer": "ipython3",
   "version": "3.8.5"
  },
  "varInspector": {
   "cols": {
    "lenName": 16,
    "lenType": 16,
    "lenVar": 40
   },
   "kernels_config": {
    "python": {
     "delete_cmd_postfix": "",
     "delete_cmd_prefix": "del ",
     "library": "var_list.py",
     "varRefreshCmd": "print(var_dic_list())"
    },
    "r": {
     "delete_cmd_postfix": ") ",
     "delete_cmd_prefix": "rm(",
     "library": "var_list.r",
     "varRefreshCmd": "cat(var_dic_list()) "
    }
   },
   "types_to_exclude": [
    "module",
    "function",
    "builtin_function_or_method",
    "instance",
    "_Feature"
   ],
   "window_display": true
  }
 },
 "nbformat": 4,
 "nbformat_minor": 1
}
