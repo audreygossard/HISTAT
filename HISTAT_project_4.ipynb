{
 "cells": [
  {
   "cell_type": "code",
   "execution_count": 22,
   "metadata": {
    "id": "UXfCPSLKlx6Z"
   },
   "outputs": [],
   "source": [
    "import numpy as np\n",
    "from scipy import linalg\n",
    "import seaborn as sns\n",
    "import matplotlib.pyplot as plt\n",
    "import pandas as pd\n",
    "from scipy import stats\n",
    "import math\n",
    "from scipy import integrate\n",
    "from numpy.linalg import inv\n",
    "import functools"
   ]
  },
  {
   "cell_type": "markdown",
   "metadata": {
    "id": "W5D9G7lCG-wp"
   },
   "source": [
    "# **PART 1 - Q2**\n"
   ]
  },
  {
   "cell_type": "code",
   "execution_count": 56,
   "metadata": {
    "id": "QjzDPz61H1hG"
   },
   "outputs": [],
   "source": [
    "def MLE1(X, y):\n",
    "    X_t = X.transpose()\n",
    "    return np.inv(X_t*X)*X_t*y"
   ]
  },
  {
   "cell_type": "markdown",
   "metadata": {
    "id": "rnuGfx5nB6Lx"
   },
   "source": [
    "#**PART 1 - Q5**"
   ]
  },
  {
   "cell_type": "code",
   "execution_count": 57,
   "metadata": {
    "colab": {
     "base_uri": "https://localhost:8080/",
     "height": 545
    },
    "id": "6Q2YSQgaBjld",
    "outputId": "ac22c299-805c-4b7d-a8bc-f4072f1e8946"
   },
   "outputs": [
    {
     "data": {
      "image/png": "[encoded data removed]",
      "text/plain": [
       "<Figure size 648x288 with 2 Axes>"
      ]
     },
     "metadata": {
      "needs_background": "light"
     },
     "output_type": "display_data"
    },
    {
     "data": {
      "image/png": "[encoded data removed]",
      "text/plain": [
       "<Figure size 648x288 with 2 Axes>"
      ]
     },
     "metadata": {
      "needs_background": "light"
     },
     "output_type": "display_data"
    }
   ],
   "source": [
    "p = 400\n",
    "\n",
    "\n",
    "def generate_dataset(beta_star, n, noise):\n",
    "    X = np.random.uniform(0, 1, (p, n))\n",
    "\n",
    "    if noise == 'normal':\n",
    "        eps = np.random.uniform(0, 1, n)\n",
    "\n",
    "    else:  # noise == 'exp'\n",
    "        eps = np.random.laplace(0, 1, n)\n",
    "\n",
    "    Y = np.dot(np.transpose(X), beta_star) + eps\n",
    "    return X, Y\n",
    "\n",
    "\n",
    "def rho1(t):\n",
    "    return np.abs(t)\n",
    "\n",
    "\n",
    "def rho2(t):\n",
    "    return t*t/2\n",
    "\n",
    "\n",
    "nb_kappa = 5\n",
    "nb_simu = 20\n",
    "n_tab = np.linspace(1, p-1, nb_kappa, dtype='int')\n",
    "kappa_tab = np.zeros(nb_kappa)\n",
    "beta_star = np.random.normal(0, 1, p)\n",
    "noise1 = 'normal'\n",
    "noise2 = 'exp'\n",
    "error_tab_rho1_noise1 = np.zeros((nb_kappa, nb_simu))\n",
    "error_tab_rho2_noise1 = np.zeros((nb_kappa, nb_simu))\n",
    "error_tab_rho1_noise2 = np.zeros((nb_kappa, nb_simu))\n",
    "error_tab_rho2_noise2 = np.zeros((nb_kappa, nb_simu))\n",
    "\n",
    "for i in range(nb_kappa):\n",
    "    n = n_tab[i]\n",
    "    kappa_tab[i] = p/n\n",
    "    for j in range(nb_simu):\n",
    "        dataset1 = generate_dataset(beta_star, n, noise1)\n",
    "        dataset2 = generate_dataset(beta_star, n, noise2)\n",
    "        error_tab_rho1_noise1[i, j] = 1#MLE(dataset1, rho1)  #mettre fonction MLE question precedente\n",
    "        error_tab_rho2_noise1[i, j] = 1#MLE(dataset1, rho2)\n",
    "        error_tab_rho1_noise2[i, j] = 1#MLE(dataset2, rho1)\n",
    "        error_tab_rho2_noise2[i, j] = 1#MLE(dataset2, rho2)\n",
    "\n",
    "fig1, (ax11, ax12) = plt.subplots(nrows=1, ncols=2, figsize=(9, 4))\n",
    "fig2, (ax21, ax22) = plt.subplots(nrows=1, ncols=2, figsize=(9, 4))\n",
    "\n",
    "bplot11 = ax11.boxplot(error_tab_rho1_noise1)\n",
    "ax11.set_title('Normal noise, rho1')\n",
    "\n",
    "bplot12 = ax12.boxplot(error_tab_rho2_noise1)\n",
    "ax12.set_title('Normal noise, rho2')\n",
    "\n",
    "bplot21 = ax21.boxplot(error_tab_rho1_noise2)\n",
    "ax21.set_title('Exp noise, rho1')\n",
    "\n",
    "bplot22 = ax22.boxplot(error_tab_rho2_noise2)\n",
    "ax22.set_title('Exp noise, rho2')\n",
    "\n",
    "plt.show()"
   ]
  },
  {
   "cell_type": "markdown",
   "metadata": {
    "id": "f97aamIf0YsU"
   },
   "source": [
    "##**PART 2 Q4**"
   ]
  },
  {
   "cell_type": "code",
   "execution_count": 4,
   "metadata": {
    "id": "L443DQA_lpDL"
   },
   "outputs": [],
   "source": [
    "def prox_quad(x, c):\n",
    "    return x / (1 + c)\n",
    "\n",
    "\n",
    "def prox_quad_prime(x, c):\n",
    "    return 1 / (1 + c)\n",
    "\n",
    "\n",
    "def prox_abs(x, c):\n",
    "    return np.sign(x)*(np.max((0, np.abs(x) - c)))\n",
    "\n",
    "\n",
    "def prox_abs_prime(x, c):\n",
    "    if (x > c) | (-x > c):\n",
    "        return 1\n",
    "    return 0"
   ]
  },
  {
   "cell_type": "code",
   "execution_count": 5,
   "metadata": {
    "id": "GEZ-Ew_1mIix"
   },
   "outputs": [],
   "source": [
    "def F_r(t, r):\n",
    "    return stats.norm.cdf(t / r) + np.exp(r ** 2 / 2) / 2 * (\n",
    "                np.exp(t) * stats.norm.pdf(-(t + r ** 2) / r) - np.exp(-t) * stats.norm.cdf((t - r ** 2) / r))"
   ]
  },
  {
   "cell_type": "code",
   "execution_count": 6,
   "metadata": {
    "id": "mgYS6U7smFVS"
   },
   "outputs": [],
   "source": [
    "def F_kappa(t, r, kappa):\n",
    "    return F_r(t, r) - (1 - kappa) / 2\n",
    "\n",
    "\n",
    "def bisection_inverse_F_bar(a, b, r, kappa, stepmax=100, tol=1e-5):\n",
    "    if np.sign(F_kappa(a, r, kappa)) == 0: return a\n",
    "    if np.sign(F_kappa(b, r, kappa)) == 0: return b\n",
    "\n",
    "    if np.sign(F_kappa(a, r, kappa)) * np.sign(F_kappa(b, r, kappa)) > 0: return print(\"no root\")\n",
    "\n",
    "    for step in range(1, stepmax + 1):\n",
    "\n",
    "        c = (a + b) / 2\n",
    "\n",
    "        if np.sign(F_kappa(c, r, kappa)) == 0: return c\n",
    "\n",
    "        if np.abs((b - a) / 2) < tol: return (b + a) / 2\n",
    "\n",
    "        if np.sign(F_kappa(c, r, kappa)) * np.sign(F_kappa(a, r, kappa)) < 0:\n",
    "            b = c\n",
    "        else:\n",
    "            a = c\n",
    "\n",
    "    return (a + b) / 2"
   ]
  },
  {
   "cell_type": "code",
   "execution_count": 7,
   "metadata": {
    "id": "38k9stxSmAMl"
   },
   "outputs": [],
   "source": [
    "def F_r_final(r, kappa):\n",
    "    a_inf = -100\n",
    "    b_max = 100\n",
    "    T = bisection_inverse_F_bar(a_inf, b_max, r, kappa)\n",
    "    G = functools.partial(F_r, r)\n",
    "    fun = lambda x: x * G(x)\n",
    "    return kappa * r ** 2 - 4 * integrate.quad(fun, 0, T)[0]"
   ]
  },
  {
   "cell_type": "code",
   "execution_count": 12,
   "metadata": {
    "colab": {
     "base_uri": "https://localhost:8080/",
     "height": 530
    },
    "id": "hPt0TrHpnKl3",
    "outputId": "f53f350a-e0c9-43e2-b249-84a3a5c91f68"
   },
   "outputs": [
    {
     "name": "stderr",
     "output_type": "stream",
     "text": [
      "<ipython-input-9-dcf715e0e2c2>:2: RuntimeWarning: divide by zero encountered in double_scalars\n",
      "  return stats.norm.cdf(t / r) + np.exp(r ** 2 / 2) / 2 * (\n",
      "<ipython-input-9-dcf715e0e2c2>:3: RuntimeWarning: divide by zero encountered in double_scalars\n",
      "  np.exp(t) * stats.norm.pdf(-(t + r ** 2) / r) - np.exp(-t) * stats.norm.cdf((t - r ** 2) / r))\n",
      "<ipython-input-9-dcf715e0e2c2>:2: RuntimeWarning: invalid value encountered in double_scalars\n",
      "  return stats.norm.cdf(t / r) + np.exp(r ** 2 / 2) / 2 * (\n",
      "<ipython-input-9-dcf715e0e2c2>:3: RuntimeWarning: invalid value encountered in double_scalars\n",
      "  np.exp(t) * stats.norm.pdf(-(t + r ** 2) / r) - np.exp(-t) * stats.norm.cdf((t - r ** 2) / r))\n",
      "<ipython-input-9-dcf715e0e2c2>:2: RuntimeWarning: overflow encountered in exp\n",
      "  return stats.norm.cdf(t / r) + np.exp(r ** 2 / 2) / 2 * (\n",
      "<ipython-input-11-da409beae40b>:7: IntegrationWarning: The occurrence of roundoff error is detected, which prevents \n",
      "  the requested tolerance from being achieved.  The error may be \n",
      "  underestimated.\n",
      "  return kappa * r ** 2 - 4 * integrate.quad(fun, 0, T)[0]\n"
     ]
    },
    {
     "data": {
      "text/plain": [
       "[<matplotlib.lines.Line2D at 0x7fe51590f2b0>]"
      ]
     },
     "execution_count": 12,
     "metadata": {},
     "output_type": "execute_result"
    },
    {
     "data": {
      "image/png": "[encoded data removed]",
      "text/plain": [
       "<Figure size 432x288 with 1 Axes>"
      ]
     },
     "metadata": {
      "needs_background": "light"
     },
     "output_type": "display_data"
    }
   ],
   "source": [
    "kappa = 0.5\n",
    "r_values = np.linspace(0,2,num=100)\n",
    "F_r_final_values = [F_r_final(r, kappa) for r in r_values]\n",
    "plt.plot(r_values, F_r_final_values)"
   ]
  },
  {
   "cell_type": "code",
   "execution_count": 13,
   "metadata": {
    "colab": {
     "base_uri": "https://localhost:8080/"
    },
    "id": "8aNTQsnal638",
    "outputId": "4d2ea98e-3cb2-4809-f0b3-9dca7f33d6a4"
   },
   "outputs": [
    {
     "name": "stdout",
     "output_type": "stream",
     "text": [
      "no root\n",
      "None\n"
     ]
    }
   ],
   "source": [
    "def bisection_r(kappa, stepmax=100, tol=1e-5):\n",
    "    a = 0.1\n",
    "    b = 1.5\n",
    "\n",
    "    if np.sign(F_r_final(a, kappa)) == 0: return a\n",
    "    if np.sign(F_r_final(b, kappa)) == 0: return b\n",
    "    # print(F_r_final(a,kappa),\"\\n\")\n",
    "    # print(F_r_final(b,kappa),\"\\n\")\n",
    "\n",
    "    if np.sign(F_r_final(a, kappa)) * np.sign(F_r_final(b, kappa)) > 0: return print(\"no root\")\n",
    "\n",
    "    for step in range(1, stepmax + 1):\n",
    "\n",
    "        c = (a + b) / 2\n",
    "\n",
    "        # print(F_r_final(c,kappa),\"\\n\")\n",
    "        if np.sign(F_r_final(c, kappa)) == 0: return c\n",
    "\n",
    "        if np.abs((b - a) / 2) < tol: return (b + a) / 2\n",
    "\n",
    "        if np.sign(F_r_final(c, kappa)) * np.sign(F_r_final(a, kappa)) < 0:\n",
    "            b = c\n",
    "        else:\n",
    "            a = c\n",
    "\n",
    "    return (a + b) / 2\n",
    "\n",
    "print(bisection_r(0.5))"
   ]
  },
  {
   "cell_type": "markdown",
   "metadata": {
    "id": "8mQ5ClAFv9WT"
   },
   "source": [
    "##**PART 2 Q5**"
   ]
  },
  {
   "cell_type": "code",
   "execution_count": 8,
   "metadata": {
    "id": "jkx2rUrLzjSW"
   },
   "outputs": [],
   "source": [
    "from random import gauss\n",
    "from math import sqrt\n",
    "from scipy.stats import laplace"
   ]
  },
  {
   "cell_type": "code",
   "execution_count": 52,
   "metadata": {
    "id": "Shnhfx2sv8f9"
   },
   "outputs": [],
   "source": [
    "def monte_carlo_expectancy(r,c, Nsim = 1e5):\n",
    "  eps1 = np.random.laplace(size=(int(Nsim),)) #laplace()\n",
    "  eps2 = np.random.normal(0,1, size = (int(Nsim),)) #gaussian(0,1)\n",
    "  z = eps1+r*eps2 #zepsilon variable\n",
    "\n",
    "  f1 = lambda z: (z-prox_abs(z,c))**2\n",
    "  f2 = lambda z: prox_abs_prime(z,c)\n",
    "  E1 = np.array(list(map(f1, z)))\n",
    "  E2 = np.array(list(map(f2, z)))\n",
    "\n",
    "  return np.sum(E1)/Nsim,np.sum(E2)/Nsim"
   ]
  },
  {
   "cell_type": "code",
   "execution_count": 53,
   "metadata": {
    "id": "uynfLMO72ubz"
   },
   "outputs": [],
   "source": [
    "def F(r, c):\n",
    "  E1, E2 = monte_carlo_expectancy(r,c)\n",
    "  return sqrt(E1/(1-E2))"
   ]
  },
  {
   "cell_type": "code",
   "execution_count": 54,
   "metadata": {
    "id": "6bZ7cN4J1-Cz"
   },
   "outputs": [],
   "source": [
    "def solve_iteration(c, err=1e-2) :\n",
    "  r1 = 0.1\n",
    "  r2 = 1\n",
    "  stop = 1000\n",
    "  iter = 0\n",
    "  while (abs(r1-r2)>1e-2 and iter<stop): \n",
    "    r1 = r2\n",
    "    r2 = F(r1,c)\n",
    "    iter +=1\n",
    "  if iter>=stop : \n",
    "    print(\"stop iter = 1000\")\n",
    "  return r2"
   ]
  },
  {
   "cell_type": "code",
   "execution_count": 55,
   "metadata": {
    "id": "n4Ah0Dq86AM2"
   },
   "outputs": [],
   "source": [
    "def kappa_quad(r):\n",
    "  return 1-(1/(1+c))\n",
    "\n",
    "def kappa_abs(r,c, Nsim= 1e6):\n",
    "  eps1 = np.random.laplace(size=(int(Nsim),)) #laplace()\n",
    "  eps2 = np.random.normal(0,1, size = (int(Nsim),)) #gaussian(0,1)\n",
    "  z = eps1+r*eps2 #zepsilon variable\n",
    "  f2 = lambda z: prox_abs_prime(z,c)\n",
    "  E2 = np.array(list(map(f2, z)))\n",
    "  return 1-np.sum(E2)/Nsim"
   ]
  },
  {
   "cell_type": "code",
   "execution_count": 56,
   "metadata": {
    "colab": {
     "base_uri": "https://localhost:8080/"
    },
    "id": "2XOJxnhF4GtM",
    "outputId": "6aaf4b90-638a-48d5-c459-240b11b0abd3"
   },
   "outputs": [
    {
     "name": "stdout",
     "output_type": "stream",
     "text": [
      "1.2896879387990459 0.426766\n"
     ]
    }
   ],
   "source": [
    "c = 1.0\n",
    "r = solve_iteration(c)\n",
    "kappa = kappa_abs(r,c)\n",
    "print(r, kappa)"
   ]
  },
  {
   "cell_type": "code",
   "execution_count": 61,
   "metadata": {
    "colab": {
     "base_uri": "https://localhost:8080/",
     "height": 318
    },
    "id": "iBZecKEX5FyY",
    "outputId": "9c736117-dd95-40b1-add6-ae892f628fcc"
   },
   "outputs": [
    {
     "name": "stderr",
     "output_type": "stream",
     "text": [
      "<ipython-input-53-379b614f283f>:3: RuntimeWarning: invalid value encountered in double_scalars\n",
      "  return sqrt(E1/(1-E2))\n"
     ]
    },
    {
     "data": {
      "text/plain": [
       "[<matplotlib.lines.Line2D at 0x7f9d76dbeee0>]"
      ]
     },
     "execution_count": 61,
     "metadata": {},
     "output_type": "execute_result"
    },
    {
     "data": {
      "image/png": "[encoded data removed]",
      "text/plain": [
       "<Figure size 432x288 with 1 Axes>"
      ]
     },
     "metadata": {
      "needs_background": "light"
     },
     "output_type": "display_data"
    }
   ],
   "source": [
    "c_values = np.linspace(0.01,10, 100) #10) cest bcp environ 10min pour tourner \n",
    "r_values = [solve_iteration(c) for c in c_values]\n",
    "kappa_values = [kappa_abs(r_values[i], c_values[i]) for i in range(10)]\n",
    "plt.xlabel('r values')\n",
    "plt.ylabel('kappa values')\n",
    "plt.plot(kappa_values, r_values)"
   ]
  },
  {
   "cell_type": "code",
   "execution_count": 62,
   "metadata": {},
   "outputs": [
    {
     "data": {
      "text/plain": [
       "[nan,\n",
       " 1.3675078399389775,\n",
       " 2.0784423709604303,\n",
       " 2.651925781611576,\n",
       " 3.165181046982189,\n",
       " 3.643528243330746,\n",
       " 4.114263578648426,\n",
       " 4.567840473198545,\n",
       " 5.028337551951284,\n",
       " 5.468280430286348]"
      ]
     },
     "execution_count": 62,
     "metadata": {},
     "output_type": "execute_result"
    }
   ],
   "source": [
    "r_values"
   ]
  },
  {
   "cell_type": "code",
   "execution_count": 63,
   "metadata": {},
   "outputs": [
    {
     "data": {
      "text/plain": [
       "[1.0,\n",
       " 0.45536299999999996,\n",
       " 0.6342639999999999,\n",
       " 0.73705,\n",
       " 0.801781,\n",
       " 0.845599,\n",
       " 0.874686,\n",
       " 0.896548,\n",
       " 0.9109970000000001,\n",
       " 0.923396]"
      ]
     },
     "execution_count": 63,
     "metadata": {},
     "output_type": "execute_result"
    }
   ],
   "source": [
    "kappa_values"
   ]
  }
 ],
 "metadata": {
  "colab": {
   "collapsed_sections": [],
   "name": "HISTAT project 4.ipynb",
   "provenance": []
  },
  "kernelspec": {
   "display_name": "Python 3",
   "language": "python",
   "name": "python3"
  },
  "language_info": {
   "codemirror_mode": {
    "name": "ipython",
    "version": 3
   },
   "file_extension": ".py",
   "mimetype": "text/x-python",
   "name": "python",
   "nbconvert_exporter": "python",
   "pygments_lexer": "ipython3",
   "version": "3.8.5"
  }
 },
 "nbformat": 4,
 "nbformat_minor": 1
}
